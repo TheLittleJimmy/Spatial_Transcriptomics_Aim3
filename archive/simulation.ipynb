{
 "cells": [
  {
   "cell_type": "markdown",
   "metadata": {
    "tags": []
   },
   "source": [
    "# VGAE framework"
   ]
  },
  {
   "cell_type": "code",
   "execution_count": 1,
   "metadata": {},
   "outputs": [],
   "source": [
    "import torch\n",
    "from torch_geometric.utils import (negative_sampling, remove_self_loops,\n",
    "                                   add_self_loops)\n",
    "EPS = 1e-15\n",
    "MAX_LOGSTD = 1\n",
    "from torch_geometric.nn.inits import reset \n",
    "\n",
    "class InnerProductDecoder(torch.nn.Module):\n",
    "    r\"\"\"The inner product decoder from the `\"Variational Graph Auto-Encoders\"\n",
    "    <https://arxiv.org/abs/1611.07308>`_ paper\n",
    "\n",
    "    .. math::\n",
    "        \\sigma(\\mathbf{Z}\\mathbf{Z}^{\\top})\n",
    "\n",
    "    where :math:`\\mathbf{Z} \\in \\mathbb{R}^{N \\times d}` denotes the latent\n",
    "    space produced by the encoder.\"\"\"\n",
    "    def forward(self, z, edge_index, sigmoid=True):\n",
    "        r\"\"\"Decodes the latent variables :obj:`z` into edge probabilities for\n",
    "        the given node-pairs :obj:`edge_index`.\n",
    "\n",
    "        Args:\n",
    "            z (Tensor): The latent space :math:`\\mathbf{Z}`.\n",
    "            sigmoid (bool, optional): If set to :obj:`False`, does not apply\n",
    "                the logistic sigmoid function to the output.\n",
    "                (default: :obj:`True`)\n",
    "        \"\"\"\n",
    "        value = (z[edge_index[0]] * z[edge_index[1]]).sum(dim=1)\n",
    "        return torch.sigmoid(value) if sigmoid else value\n",
    "\n",
    "\n",
    "    def forward_all(self, z, sigmoid=True):\n",
    "        r\"\"\"Decodes the latent variables :obj:`z` into a probabilistic dense\n",
    "        adjacency matrix.\n",
    "\n",
    "        Args:\n",
    "            z (Tensor): The latent space :math:`\\mathbf{Z}`.\n",
    "            sigmoid (bool, optional): If set to :obj:`False`, does not apply\n",
    "                    the logistic sigmoid function to the output.\n",
    "                (default: :obj:`True`)\n",
    "        \"\"\"\n",
    "        adj = torch.matmul(z, z.t())\n",
    "        return torch.sigmoid(adj) if sigmoid else adj\n",
    "\n",
    "\n",
    "class GAE(torch.nn.Module):\n",
    "    r\"\"\"The Graph Auto-Encoder model from the\n",
    "    `\"Variational Graph Auto-Encoders\" <https://arxiv.org/abs/1611.07308>`_\n",
    "    paper based on user-defined encoder and decoder models.\n",
    "\n",
    "    Args:\n",
    "        encoder (Module): The encoder module.\n",
    "        decoder (Module, optional): The decoder module. If set to :obj:`None`,\n",
    "            will default to the\n",
    "            :class:`torch_geometric.nn.models.InnerProductDecoder`.\n",
    "            (default: :obj:`None`)\n",
    "    \"\"\"\n",
    "    def __init__(self, encoder, decoder=None):\n",
    "        super(GAE, self).__init__()\n",
    "        self.encoder = encoder\n",
    "        self.decoder = InnerProductDecoder() if decoder is None else decoder\n",
    "        GAE.reset_parameters(self)\n",
    "\n",
    "    def reset_parameters(self):\n",
    "        reset(self.encoder)\n",
    "        reset(self.decoder)\n",
    "\n",
    "\n",
    "    def encode(self, *args, **kwargs):\n",
    "        r\"\"\"Runs the encoder and computes node-wise latent variables.\"\"\"\n",
    "        return self.encoder(*args, **kwargs)\n",
    "\n",
    "\n",
    "    def decode(self, *args, **kwargs):\n",
    "        r\"\"\"Runs the decoder and computes edge probabilities.\"\"\"\n",
    "        return self.decoder(*args, **kwargs)\n",
    "\n",
    "\n",
    "    def recon_loss(self, z, pos_edge_index, neg_edge_index=None):\n",
    "        r\"\"\"Given latent variables :obj:`z`, computes the binary cross\n",
    "        entropy loss for positive edges :oenbj:`pos_edge_index` and negative\n",
    "        sampled edges.\n",
    "\n",
    "        Args:\n",
    "            z (Tensor): The latent space :math:`\\mathbf{Z}`.\n",
    "            pos_edge_index (LongTensor): The positive edges to train against.\n",
    "            neg_edge_index (LongTensor, optional): The negative edges to train\n",
    "                against. If not given, uses negative sampling to calculate\n",
    "                negative edges. (default: :obj:`None`)\n",
    "        \"\"\"\n",
    "\n",
    "        pos_loss = -torch.log(\n",
    "            self.decoder(z, pos_edge_index, sigmoid=True) + EPS).sum()\n",
    "\n",
    "        # Do not include self-loops in negative samples\n",
    "        pos_edge_index, _ = remove_self_loops(pos_edge_index)\n",
    "        pos_edge_index, _ = add_self_loops(pos_edge_index)\n",
    "        if neg_edge_index is None:\n",
    "            neg_edge_index = negative_sampling(pos_edge_index, z.size(0))\n",
    "        neg_loss = -torch.log(1 -\n",
    "                              self.decoder(z, neg_edge_index, sigmoid=True) +\n",
    "                              EPS).sum()\n",
    "        N1 = len(-torch.log( self.decoder(z, pos_edge_index, sigmoid=True) + EPS))\n",
    "        N2 = len(-torch.log(1 - self.decoder(z, neg_edge_index, sigmoid=True) + EPS))\n",
    "\n",
    "        return (1 * pos_loss + 1 * neg_loss) / (N1 + N2)\n",
    "\n",
    "\n",
    "    def test(self, z, pos_edge_index, neg_edge_index):\n",
    "        r\"\"\"Given latent variables :obj:`z`, positive edges\n",
    "        :obj:`pos_edge_index` and negative edges :obj:`neg_edge_index`,\n",
    "        computes area under the ROC curve (AUC) and average precision (AP)\n",
    "        scores.\n",
    "\n",
    "        Args:\n",
    "            z (Tensor): The latent space :math:`\\mathbf{Z}`.\n",
    "            pos_edge_index (LongTensor): The positive edges to evaluate\n",
    "                against.\n",
    "            neg_edge_index (LongTensor): The negative edges to evaluate\n",
    "                against.\n",
    "        \"\"\"\n",
    "        from sklearn.metrics import roc_auc_score, average_precision_score\n",
    "\n",
    "        pos_y = z.new_ones(pos_edge_index.size(1))\n",
    "        neg_y = z.new_zeros(neg_edge_index.size(1))\n",
    "        y = torch.cat([pos_y, neg_y], dim=0)\n",
    "\n",
    "        pos_pred = self.decoder(z, pos_edge_index, sigmoid=True)\n",
    "        neg_pred = self.decoder(z, neg_edge_index, sigmoid=True)\n",
    "        pred = torch.cat([pos_pred, neg_pred], dim=0)\n",
    "        \n",
    "        y, pred = y.detach().cpu().numpy(), pred.detach().cpu().numpy()\n",
    "\n",
    "        return roc_auc_score(y, pred), average_precision_score(y, pred)\n",
    "\n",
    "\n",
    "\n",
    "class VGAE(GAE):\n",
    "    r\"\"\"The Variational Graph Auto-Encoder model from the\n",
    "    `\"Variational Graph Auto-Encoders\" <https://arxiv.org/abs/1611.07308>`_\n",
    "    paper.\n",
    "\n",
    "    Args:\n",
    "        encoder (Module): The encoder module to compute :math:`\\mu` and\n",
    "            :math:`\\log\\sigma^2`.\n",
    "        decoder (Module, optional): The decoder module. If set to :obj:`None`,\n",
    "            will default to the\n",
    "            :class:`torch_geometric.nn.models.InnerProductDecoder`.\n",
    "            (default: :obj:`None`)\n",
    "    \"\"\"\n",
    "    def __init__(self, encoder, decoder=None):\n",
    "        super(VGAE, self).__init__(encoder, decoder)\n",
    "\n",
    "    def reparametrize(self, mu, logstd):\n",
    "        if self.training:\n",
    "            return mu + torch.randn_like(logstd) * torch.exp(logstd)\n",
    "        else:\n",
    "            return mu\n",
    "    \n",
    "    def encode(self, *args, **kwargs):\n",
    "        \"\"\"\"\"\"\n",
    "        self.__mu__, self.__logstd__ = self.encoder(*args, **kwargs)\n",
    "        self.__logstd__ = self.__logstd__.clamp(max=MAX_LOGSTD)\n",
    "        z = self.reparametrize(self.__mu__, self.__logstd__)\n",
    "        return z\n",
    "\n",
    "    def kl_loss(self, mu=None, logstd=None):\n",
    "        r\"\"\"Computes the KL loss, either for the passed arguments :obj:`mu`\n",
    "        and :obj:`logstd`, or based on latent variables from last encoding.\n",
    "\n",
    "        Args:\n",
    "            mu (Tensor, optional): The latent space for :math:`\\mu`. If set to\n",
    "                :obj:`None`, uses the last computation of :math:`mu`.\n",
    "                (default: :obj:`None`)\n",
    "            logstd (Tensor, optional): The latent space for\n",
    "                :math:`\\log\\sigma`.  If set to :obj:`None`, uses the last\n",
    "                computation of :math:`\\log\\sigma^2`.(default: :obj:`None`)\n",
    "        \"\"\"\n",
    "        mu = self.__mu__ if mu is None else mu\n",
    "        logstd = self.__logstd__ if logstd is None else logstd.clamp(\n",
    "            max=MAX_LOGSTD)\n",
    "        return -0.5 * torch.mean(\n",
    "            torch.sum(1 + 2 * logstd - mu**2 - logstd.exp()**2, dim=1)) "
   ]
  },
  {
   "cell_type": "markdown",
   "metadata": {
    "tags": []
   },
   "source": [
    "# Load data"
   ]
  },
  {
   "cell_type": "code",
   "execution_count": 2,
   "metadata": {},
   "outputs": [],
   "source": [
    "import torch\n",
    "from torch.autograd.grad_mode import F\n",
    "from torch_geometric.data import Data\n",
    "from torch_geometric.datasets import Planetoid\n",
    "import torch_geometric.transforms as T\n",
    "from torch_geometric.nn import GCNConv\n",
    "from torch_geometric.utils import train_test_split_edges\n",
    "\n",
    "import scipy.sparse as sp\n",
    "import numpy as np\n",
    "import networkx as nx\n",
    "\n",
    "class SimuData():\n",
    "    \"\"\"Simulate graph data\"\"\"\n",
    "    def __init__(self, p=0.5, n_node=10, n_graph=30):\n",
    "        self.n_node = n_node\n",
    "        self.n_graph = n_graph\n",
    "        self.p = p\n",
    "\n",
    "    def simu_adj_wgh(self):\n",
    "        adj_list = []\n",
    "\n",
    "        for i in range(self.n_graph):\n",
    "            ## zero matrix\n",
    "            A = torch.zeros(self.n_node, self.n_node)\n",
    "            # first five nodes weights: uniform(0,1)A[:5,:5] = W\n",
    "            W = torch.rand(5, 5)\n",
    "            ## symmetric\n",
    "            i, j = torch.triu_indices(5, 5)\n",
    "            W[i, j] = W.T[i, j]\n",
    "            A[:5, :5] = W\n",
    "            adj_list.append(A)  \n",
    "\n",
    "        return adj_list\n",
    "\n",
    "    def simu_adj_diag(self):\n",
    "        adj_list = []\n",
    "\n",
    "        for i in range(self.n_graph):\n",
    "            A = torch.eye(self.n_node)\n",
    "            adj_list.append(A)  \n",
    "\n",
    "        return adj_list\n",
    "\n",
    "    def simu_adj_m(self):\n",
    "        \"\"\"generating adjacency matrix\"\"\"\n",
    "        adj_wgh = self.simu_adj_wgh()\n",
    "        #adj_wgh = self.simu_adj_diag()\n",
    "        adj_m_list =[]\n",
    "        for _, adj in enumerate(adj_wgh):\n",
    "            adj[adj>=1-self.p] = 1\n",
    "            adj[adj<1-self.p] = 0\n",
    "            for i in range(self.n_node):\n",
    "                adj[i, i] = 0\n",
    "            adj_m_list.append(adj)    \n",
    "        return adj_m_list\n",
    "\n",
    "    def graph_dataset(self):\n",
    "        dataset =[]\n",
    "        simu_adj = self.simu_adj_m()\n",
    "\n",
    "        for _, adj in enumerate(simu_adj):\n",
    "            edge_index_temp = sp.coo_matrix(adj)\n",
    "            indices = np.vstack((edge_index_temp.row, edge_index_temp.col))\n",
    "            edge_index_A = torch.LongTensor(indices) \n",
    "            x = self.get_x_feature()\n",
    "            data = Data(x=x, edge_index=edge_index_A)\n",
    "            dataset.append(data)\n",
    "\n",
    "        return dataset\n",
    "\n",
    "    def get_x_feature(self):\n",
    "        x = torch.arange(self.n_node)\n",
    "        x_onehot = torch.eye(self.n_node)[x,:] \n",
    "\n",
    "        return torch.FloatTensor(x_onehot)\n",
    "\n",
    "\n",
    "class Encoder(torch.nn.Module):\n",
    "    def __init__(self, in_channels, out_channels):\n",
    "        super(Encoder, self).__init__()\n",
    "        self.conv1 = GCNConv(in_channels, 2 * out_channels, cached=False) \n",
    "        self.conv_mu = GCNConv(2 * out_channels, out_channels, cached=False)\n",
    "        self.conv_logstd = GCNConv(2 * out_channels, out_channels, cached=False)\n",
    "\n",
    "    def forward(self, x, edge_index):\n",
    "        x = self.conv1(x, edge_index).relu()\n",
    "        return self.conv_mu(x, edge_index), self.conv_logstd(x, edge_index)\n",
    "\n",
    "\n",
    "transform = T.Compose([\n",
    "            T.NormalizeFeatures(),\n",
    "            T.RandomLinkSplit(num_val=0, num_test=0, is_undirected=True,\n",
    "                            split_labels=True, add_negative_train_samples=False),])\n",
    "\n",
    "import numpy as np\n",
    "import pandas as pd\n",
    "\n",
    "import torch\n",
    "import torch.nn as nn\n",
    "from torch.optim import Adam\n",
    "import torch.nn.functional as F\n",
    "import numpy as np\n",
    "import scipy.sparse as sp\n",
    "from scipy.sparse import csr_matrix\n",
    "\n",
    "\n",
    "class LoadData():\n",
    "    \"\"\"Load graph data\"\"\"\n",
    "    def __init__(self, file_path, samples, non_orphan_list=None, n_node=38):\n",
    "        self.samples = samples\n",
    "        self.file_path = file_path\n",
    "        self.nSample = len(samples)\n",
    "        self.non_orphan_list = non_orphan_list\n",
    "        self.n_node = n_node\n",
    "\n",
    "    def get_adj_wgh(self):\n",
    "        \"\"\"generating adjacency matrix\"\"\"\n",
    "        adj_orig_list =[]\n",
    "        for sample in self.samples:\n",
    "            f_name = self.file_path + \"/\"+ sample\n",
    "            adj   = np.asarray(pd.read_csv(f_name, index_col = 0, iterator = False))\n",
    "            adj_orig_list.append(adj)    \n",
    "\n",
    "        return adj_orig_list\n",
    "\n",
    "    def get_adj_label(self):\n",
    "        adj_m = self.get_adj_m()\n",
    "        adj_label_list =[]\n",
    "        \n",
    "        for _, adj in enumerate(adj_m):\n",
    "            adj_label = adj + sp.eye(adj.shape[0])\n",
    "            adj_label = sparse_to_tuple(sp.coo_matrix(adj_label))\n",
    "            #adj_label = sparse_to_tuple(adj_label)\n",
    "            adj_label = torch.sparse.FloatTensor(torch.LongTensor(adj_label[0].T), \n",
    "                            torch.FloatTensor(adj_label[1]), \n",
    "                            torch.Size(adj_label[2]))\n",
    "            adj_label_list.append(adj_label)\n",
    "        return adj_label_list\n",
    "\n",
    "    def get_adj_norm(self):\n",
    "        adj_m = self.get_adj_m()\n",
    "        adj_norm_list =[]\n",
    "\n",
    "        for _, adj in enumerate(adj_m):\n",
    "            adj_norm = preprocess_graph(adj)\n",
    "            adj_norm = torch.sparse.FloatTensor(torch.LongTensor(adj_norm[0].T), \n",
    "                            torch.FloatTensor(adj_norm[1]), \n",
    "                            torch.Size(adj_norm[2]))\n",
    "            adj_norm_list.append(adj_norm)\n",
    "\n",
    "        return adj_norm_list\n",
    "\n",
    "    def get_adj_m(self):\n",
    "        adj_wgh = self.get_adj_wgh()\n",
    "        adj_m_list =[]\n",
    "        for _, adj in enumerate(adj_wgh):\n",
    "            adj[adj > 0] = 1\n",
    "            for i in range(self.n_node):\n",
    "                adj[i, i] = 0\n",
    "            for i in range(self.n_node):\n",
    "                for j in range(self.n_node):\n",
    "                    if adj[i, j] == 1:\n",
    "                        adj[j, i] = 1\n",
    "            for i in range(self.n_node - 1, -1, -1):\n",
    "                if i not in self.non_orphan_list:\n",
    "                    adj = np.delete(adj, (i), axis=0)\n",
    "                    adj = np.delete(adj, (i), axis=1)\n",
    "            adj_m_list.append(adj)    \n",
    "        return adj_m_list\n",
    "\n",
    "    def get_feature(self):\n",
    "        \"\"\"generating feature matrix X\"\"\"\n",
    "        adj_wgh = self.get_adj_wgh()\n",
    "        x_list = []\n",
    "        for _, adj in enumerate(adj_wgh):\n",
    "            x_feature  = adj\n",
    "            x_feature  = csr_matrix(x_feature)\n",
    "            x_feature  = sparse_to_tuple(x_feature)\n",
    "            x_feature  = torch.sparse.FloatTensor(torch.LongTensor(x_feature[0].T), \n",
    "                            torch.FloatTensor(x_feature[1]), \n",
    "                            torch.Size(x_feature[2]))\n",
    "            x_list.append(x_feature)\n",
    "        return x_list\n",
    "\n",
    "    def get_x_feature(self):\n",
    "        x = torch.arange(len(self.non_orphan_list))\n",
    "        x_onehot = torch.eye(len(self.non_orphan_list))[x,:] \n",
    "\n",
    "        return torch.FloatTensor(x_onehot)   \n",
    "\n",
    "    def graph_dataset(self):\n",
    "        dataset =[]\n",
    "        simu_adj = self.get_adj_m()\n",
    "\n",
    "        for _, adj in enumerate(simu_adj):\n",
    "            edge_index_temp = sp.coo_matrix(adj)\n",
    "            indices = np.vstack((edge_index_temp.row, edge_index_temp.col))\n",
    "            edge_index_A = torch.LongTensor(indices) \n",
    "            x = self.get_x_feature()\n",
    "            data = Data(x=x, edge_index=edge_index_A)\n",
    "            dataset.append(data)\n",
    "        return dataset\n",
    "\n",
    "\n",
    "def sparse_to_tuple(sparse_mx):\n",
    "    if not sp.isspmatrix_coo(sparse_mx):\n",
    "        sparse_mx = sparse_mx.tocoo()\n",
    "    coords = np.vstack((sparse_mx.row, sparse_mx.col)).transpose()\n",
    "    values = sparse_mx.data\n",
    "    shape = sparse_mx.shape\n",
    "    return coords, values, shape\n",
    "\n",
    "def preprocess_graph(adj):\n",
    "    adj = sp.coo_matrix(adj)\n",
    "    adj_ = adj + sp.eye(adj.shape[0])\n",
    "    rowsum = np.array(adj_.sum(1))\n",
    "    degree_mat_inv_sqrt = sp.diags(np.power(rowsum, -0.5).flatten())\n",
    "    adj_normalized = adj_.dot(degree_mat_inv_sqrt).transpose().dot(degree_mat_inv_sqrt).tocoo()\n",
    "    \n",
    "    return sparse_to_tuple(adj_normalized)\n",
    "\n",
    "from os import walk\n",
    "\n",
    "def get_filename(mypath):\n",
    "    f = []\n",
    "    for (dirpath, dirnames, filenames) in walk(mypath):\n",
    "        f.extend(filenames)\n",
    "        break\n",
    "    return f"
   ]
  },
  {
   "cell_type": "markdown",
   "metadata": {
    "tags": []
   },
   "source": [
    "# Load and train ipf data"
   ]
  },
  {
   "cell_type": "code",
   "execution_count": 3,
   "metadata": {},
   "outputs": [],
   "source": [
    "n_node = 10\n",
    "temp = np.zeros((2, n_node * n_node))\n",
    "for i in range(n_node):\n",
    "    for j in range(n_node):\n",
    "        temp[0, j + n_node*i] = j\n",
    "for i in range(n_node):\n",
    "    for j in range(n_node):\n",
    "        temp[1, j + n_node*i] = i\n",
    "edge_index = temp"
   ]
  },
  {
   "cell_type": "code",
   "execution_count": 4,
   "metadata": {},
   "outputs": [],
   "source": [
    "def compute_cent(mat):\n",
    "    return (np.sum(mat, axis=0)/mat.shape[0])\n",
    "\n",
    "import pandas as pd\n",
    "non_orphan_list = np.array([ 1,  2,  3,  4,  5,  8,  9, 13, 14, 17, 19, 20, 21, 22, 23, 25, 30,31, 32])\n",
    "\n",
    "def recover_full_matrix(adj_mat, non_orphan_list=non_orphan_list):\n",
    "    df = pd.DataFrame(adj_mat, index=non_orphan_list)\n",
    "    for i in range(38):\n",
    "        if i not in df.index:\n",
    "            line = pd.DataFrame(np.zeros((1,len(non_orphan_list))), index=[i])\n",
    "            df = pd.concat([df.iloc[:i], line, df.iloc[i:]])\n",
    "    df = df.T\n",
    "    df.index = non_orphan_list\n",
    "    for i in range(38):\n",
    "        if i not in df.index:\n",
    "            line = pd.DataFrame(np.zeros((1,38)), index=[i])\n",
    "            df = pd.concat([df.iloc[:i], line, df.iloc[i:]])\n",
    "    return np.matrix(df)"
   ]
  },
  {
   "cell_type": "code",
   "execution_count": 32,
   "metadata": {},
   "outputs": [
    {
     "data": {
      "image/png": "[encoded data removed]",
      "text/plain": [
       "<Figure size 720x720 with 30 Axes>"
      ]
     },
     "metadata": {
      "needs_background": "light"
     },
     "output_type": "display_data"
    }
   ],
   "source": [
    "out_channels = 10\n",
    "n_node = 10\n",
    "num_features = 10\n",
    "simu_data = SimuData(p=0.8)\n",
    "dataset = simu_data.graph_dataset()\n",
    "VGAE_Encoder = Encoder(10, out_channels)\n",
    "model = VGAE(VGAE_Encoder)\n",
    "optimizer = torch.optim.Adam(model.parameters(), lr=0.005)\n",
    "epochs = 2000\n",
    "\n",
    "# original adj matrices\n",
    "\n",
    "import matplotlib.pyplot as plt\n",
    "fig, ax = plt.subplots(3, 10, figsize=(10,10))\n",
    "for i in range(30):\n",
    "    plt.subplot(3, 10, i+1)\n",
    "    plt.imshow(simu_data.simu_adj_m()[i], cmap=\"Greys\")"
   ]
  },
  {
   "cell_type": "code",
   "execution_count": 53,
   "metadata": {
    "tags": []
   },
   "outputs": [
    {
     "name": "stdout",
     "output_type": "stream",
     "text": [
      "0tensor(0.4761, grad_fn=<DivBackward0>)\n",
      "100tensor(0.3219, grad_fn=<DivBackward0>)\n",
      "200tensor(0.2967, grad_fn=<DivBackward0>)\n",
      "300tensor(0.2235, grad_fn=<DivBackward0>)\n",
      "400tensor(0.2026, grad_fn=<DivBackward0>)\n",
      "500tensor(0.1358, grad_fn=<DivBackward0>)\n",
      "600tensor(0.1256, grad_fn=<DivBackward0>)\n",
      "700tensor(0.1065, grad_fn=<DivBackward0>)\n",
      "800tensor(0.1029, grad_fn=<DivBackward0>)\n",
      "900tensor(0.1216, grad_fn=<DivBackward0>)\n",
      "1000tensor(0.1135, grad_fn=<DivBackward0>)\n",
      "1100tensor(0.0890, grad_fn=<DivBackward0>)\n",
      "1200tensor(0.0909, grad_fn=<DivBackward0>)\n",
      "1300tensor(0.1025, grad_fn=<DivBackward0>)\n",
      "1400tensor(0.0944, grad_fn=<DivBackward0>)\n",
      "1500tensor(0.0808, grad_fn=<DivBackward0>)\n",
      "1600tensor(0.0824, grad_fn=<DivBackward0>)\n",
      "1700tensor(0.0887, grad_fn=<DivBackward0>)\n",
      "1800tensor(0.0942, grad_fn=<DivBackward0>)\n",
      "1900tensor(0.0802, grad_fn=<DivBackward0>)\n"
     ]
    }
   ],
   "source": [
    "for epoch in range(epochs):\n",
    "    loss_total = 0\n",
    "    optimizer.zero_grad()\n",
    "    \n",
    "    for i in range(len(dataset)):\n",
    "        train_data, val_data, test_data = transform(dataset[i])\n",
    "        z = model.encode(train_data.x, train_data.edge_index)\n",
    "        recon_loss = model.recon_loss(z, train_data.edge_index) \n",
    "        loss = recon_loss\n",
    "        loss = loss + 0.001 * model.kl_loss()\n",
    "        loss_total += loss\n",
    "\n",
    "    loss_avg = loss_total/len(dataset)\n",
    "    loss_avg.backward()\n",
    "    optimizer.step()\n",
    "    if epoch % 100 ==0:\n",
    "        print(str(epoch)+str(loss_avg))"
   ]
  },
  {
   "cell_type": "code",
   "execution_count": 7,
   "metadata": {},
   "outputs": [
    {
     "data": {
      "text/plain": [
       "VGAE(\n",
       "  (encoder): Encoder(\n",
       "    (conv1): GCNConv(10, 4)\n",
       "    (conv_mu): GCNConv(4, 2)\n",
       "    (conv_logstd): GCNConv(4, 2)\n",
       "  )\n",
       "  (decoder): InnerProductDecoder()\n",
       ")"
      ]
     },
     "execution_count": 7,
     "metadata": {},
     "output_type": "execute_result"
    }
   ],
   "source": [
    "# os.chdir('C:\\\\Users\\\\Ji Qi\\\\Documents\\\\GitHub\\\\ST-Aim3')\n",
    "# os.getcwd()\n",
    "PATH = str(out_channels)+'_dim_vgae_model_for_simulation_data.pth'\n",
    "torch.save(model, PATH)\n",
    "\n",
    "model = torch.load(PATH)\n",
    "model.eval()"
   ]
  },
  {
   "cell_type": "markdown",
   "metadata": {
    "tags": []
   },
   "source": [
    "# Generate IPF matrices"
   ]
  },
  {
   "cell_type": "code",
   "execution_count": 54,
   "metadata": {},
   "outputs": [
    {
     "data": {
      "image/png": "[encoded data removed]",
      "text/plain": [
       "<Figure size 1440x720 with 30 Axes>"
      ]
     },
     "metadata": {
      "needs_background": "light"
     },
     "output_type": "display_data"
    }
   ],
   "source": [
    "# get mu and logstd \n",
    "\n",
    "n_node = 10\n",
    "mu_list_in_data = []\n",
    "logstd_list_in_data = []\n",
    "for i in range(len(dataset)):\n",
    "    train_data, val_data, test_data = transform(dataset[i])\n",
    "    mu = model.encode(train_data.x, train_data.edge_index)\n",
    "    mu_list_in_data.append(np.asarray(mu.detach()))\n",
    "\n",
    "mu_list_reshape = []\n",
    "n = len(dataset)\n",
    "for i in range(n):\n",
    "    mu_list_reshape.append(mu_list_in_data[i].reshape((out_channels * n_node)))\n",
    "\n",
    "# input data scatter \n",
    "import matplotlib.pyplot as plt\n",
    "def plot_mu_graph(mu):\n",
    "    n_node = mu.shape[0]\n",
    "    annotations = [str(i+1) for i in range(n_node)]\n",
    "    colors = plt.cm.rainbow(np.linspace(0, 1, n_node))\n",
    "    plt.scatter(mu[:,0],mu[:,1],c=colors, s=100)\n",
    "    \n",
    "    for i, label in enumerate(annotations):\n",
    "        plt.annotate(label, (mu[i,0], mu[i,1]), fontsize=14)\n",
    "\n",
    "        \n",
    "plt.subplots(figsize=(20,10))\n",
    "\n",
    "for graph_i in range(30):\n",
    "    plt.subplot(4, 8, graph_i+1)\n",
    "    plot_mu_graph(mu_list_in_data[graph_i])"
   ]
  },
  {
   "cell_type": "code",
   "execution_count": 23,
   "metadata": {},
   "outputs": [
    {
     "data": {
      "text/plain": [
       "array([[ 2.76556283e-01, -3.48740965e-01, -4.50014085e-01,\n",
       "        -1.26092064e+00,  4.28403109e-01, -3.98549557e-01,\n",
       "        -4.08727646e-01, -3.24957013e-01,  1.90530211e-01,\n",
       "         5.50615266e-02],\n",
       "       [ 3.29562634e-01,  2.95067695e-03,  5.28249666e-02,\n",
       "         5.92753142e-02, -3.24451119e-01,  1.26853570e-01,\n",
       "        -3.11528236e-01, -1.24826012e-02,  1.05341434e-01,\n",
       "         2.81440374e-02],\n",
       "       [ 3.16432178e-01, -2.92973608e-01, -3.40965390e-01,\n",
       "        -8.07642221e-01,  1.48296729e-01, -2.56587029e-01,\n",
       "        -3.86136830e-01, -2.54447818e-01,  1.98880970e-01,\n",
       "         2.55351439e-02],\n",
       "       [ 2.85775930e-01,  3.28075737e-01,  5.05490482e-01,\n",
       "         1.33341348e+00, -8.93719614e-01,  5.06402969e-01,\n",
       "        -1.29660517e-01,  2.82263070e-01,  5.46017941e-03,\n",
       "        -1.02210879e-01],\n",
       "       [ 3.81902993e-01,  2.43241146e-01,  3.62127185e-01,\n",
       "         6.61514640e-01, -6.20459378e-01,  3.72945935e-01,\n",
       "        -2.61530280e-01,  1.67223468e-01,  2.64571309e-02,\n",
       "        -1.80002712e-02],\n",
       "       [-7.95350790e+00,  7.42735815e+00, -4.78879642e+00,\n",
       "         9.85748351e-01,  7.49407911e+00, -2.16424131e+00,\n",
       "         6.58618498e+00,  1.51613798e+01,  1.01991634e+01,\n",
       "         8.79976177e+00],\n",
       "       [-9.10611439e+00,  1.46224523e+00, -7.97542989e-01,\n",
       "         6.56222200e+00,  7.80719709e+00, -2.41100264e+00,\n",
       "        -1.49415088e+00, -8.74077415e+00, -1.51729803e+01,\n",
       "         1.49211922e+01],\n",
       "       [-5.21948957e+00, -1.35579462e+01,  1.91351624e+01,\n",
       "        -3.70045614e+00,  2.86055779e+00, -3.21613407e+00,\n",
       "         1.44176407e+01,  3.60195994e+00, -2.50726056e+00,\n",
       "        -8.51822853e-01],\n",
       "       [-3.45494676e+00,  1.77221355e+01, -3.03924298e+00,\n",
       "        -5.67245626e+00, -4.22494364e+00, -1.77622283e+00,\n",
       "         1.88394318e+01, -9.58176327e+00, -4.85280466e+00,\n",
       "        -8.86627388e+00],\n",
       "       [-1.60369968e+01, -5.08986664e+00, -6.83055687e+00,\n",
       "        -3.13146687e+00,  3.12780094e+00,  1.79349670e+01,\n",
       "        -2.76152492e+00,  5.44594431e+00, -7.08386707e+00,\n",
       "        -1.17455120e+01]], dtype=float32)"
      ]
     },
     "execution_count": 23,
     "metadata": {},
     "output_type": "execute_result"
    }
   ],
   "source": [
    "mu_list_in_data[1]"
   ]
  },
  {
   "cell_type": "code",
   "execution_count": 55,
   "metadata": {},
   "outputs": [],
   "source": [
    "# Gaussian distribution for generating mu\n",
    "\n",
    "import scipy.stats as stats\n",
    "data_mu = np.zeros((n, out_channels * n_node))\n",
    "for i in range(n):\n",
    "    data_mu[i, :] = mu_list_reshape[i]\n",
    "\n",
    "from sklearn.mixture import GaussianMixture\n",
    "\n",
    "gm_mu = GaussianMixture(n_components=1, random_state=0).fit(data_mu)\n",
    "gm_mu.weights_[0] = 1    "
   ]
  },
  {
   "cell_type": "code",
   "execution_count": 56,
   "metadata": {},
   "outputs": [],
   "source": [
    "# got mean and cov for mu generating distribution\n",
    "means_normal = gm_mu.means_\n",
    "cov_normal = gm_mu.covariances_\n",
    "means_normal = np.asarray(means_normal.tolist()[0])\n",
    "cov_normal = np.asarray(cov_normal.tolist()[0])"
   ]
  },
  {
   "cell_type": "code",
   "execution_count": 57,
   "metadata": {},
   "outputs": [],
   "source": [
    "def sample_adj_mat(filter_option=True, filter_value=0.75, filter_eye=True):\n",
    "    model.__mu__ = torch.from_numpy((np.random.multivariate_normal(mean=means_normal,cov=cov_normal)).reshape((n_node,out_channels)))\n",
    "    z = model.__mu__\n",
    "    model.decode(z, edge_index)\n",
    "    adj_mat = np.zeros((n_node, n_node))\n",
    "    for i in range(n_node*n_node):\n",
    "        adj_mat[int(edge_index[0, i]), int(edge_index[1, i])] = (model.decode(z, edge_index)[i].detach().numpy()).item()\n",
    "    if filter_option==True:   \n",
    "        adj_mat[adj_mat < filter_value] = 0\n",
    "        adj_mat[adj_mat >= filter_value] = 1\n",
    "    if filter_eye:\n",
    "        for i in range(adj_mat.shape[0]):\n",
    "            adj_mat[i,i]=0\n",
    "    return adj_mat, model.__mu__"
   ]
  },
  {
   "cell_type": "code",
   "execution_count": 58,
   "metadata": {},
   "outputs": [
    {
     "data": {
      "image/png": "[encoded data removed]",
      "text/plain": [
       "<Figure size 1440x720 with 100 Axes>"
      ]
     },
     "metadata": {
      "needs_background": "light"
     },
     "output_type": "display_data"
    }
   ],
   "source": [
    "# generate adjacency matrices\n",
    "\n",
    "output_adj_list = []\n",
    "output_cent_list = []\n",
    "\n",
    "import matplotlib.pyplot as plt\n",
    "fig, ax = plt.subplots(5, 20, figsize=(20,10))\n",
    "\n",
    "adj_mat_list = []\n",
    "mu_list = []\n",
    "for i in range(100):\n",
    "    adj_mat, mu_sample = sample_adj_mat(filter_option=True, filter_value=0.7, filter_eye=True)\n",
    "    output_cent_list.append(compute_cent(adj_mat))\n",
    "    mu_list.append(mu_sample.detach().numpy())\n",
    "    if i<100:\n",
    "        plt.subplot(5, 20, i+1)\n",
    "        plt.imshow(adj_mat, cmap=\"Greys\")"
   ]
  },
  {
   "cell_type": "code",
   "execution_count": 59,
   "metadata": {},
   "outputs": [
    {
     "data": {
      "text/plain": [
       "array([0.297, 0.316, 0.354, 0.345, 0.355, 0.   , 0.   , 0.   , 0.   ,\n",
       "       0.001])"
      ]
     },
     "execution_count": 59,
     "metadata": {},
     "output_type": "execute_result"
    }
   ],
   "source": [
    "np.mean(output_cent_list, axis=0)"
   ]
  },
  {
   "cell_type": "code",
   "execution_count": 60,
   "metadata": {},
   "outputs": [
    {
     "data": {
      "text/plain": [
       "array([0.33      , 0.34      , 0.31666672, 0.31333333, 0.33333334,\n",
       "       0.        , 0.        , 0.        , 0.        , 0.        ],\n",
       "      dtype=float32)"
      ]
     },
     "execution_count": 60,
     "metadata": {},
     "output_type": "execute_result"
    }
   ],
   "source": [
    "np.mean(input_cent_list, axis=0)"
   ]
  },
  {
   "cell_type": "code",
   "execution_count": 15,
   "metadata": {},
   "outputs": [],
   "source": [
    "ipf_output_cent_list = output_cent_list"
   ]
  },
  {
   "cell_type": "code",
   "execution_count": 61,
   "metadata": {
    "tags": []
   },
   "outputs": [],
   "source": [
    "input_adj_list = []\n",
    "input_cent_list = []\n",
    "for i in range(30):\n",
    "    adj_mat = simu_data.simu_adj_m()[i].numpy()\n",
    "    input_adj_list.append(adj_mat)\n",
    "    input_cent_list.append(compute_cent(adj_mat))"
   ]
  },
  {
   "cell_type": "code",
   "execution_count": 62,
   "metadata": {},
   "outputs": [
    {
     "data": {
      "text/plain": [
       "Ttest_indResult(statistic=array([-0.43968703, -0.71980874,  2.00847151,  0.9671699 ,  1.05290818,\n",
       "               nan,         nan,         nan,         nan,  0.54623099]), pvalue=array([0.66090526, 0.47295504, 0.04669754, 0.33528297, 0.29436665,\n",
       "              nan,        nan,        nan,        nan, 0.58585799]))"
      ]
     },
     "metadata": {},
     "output_type": "display_data"
    },
    {
     "data": {
      "text/html": [
       "<div>\n",
       "<style scoped>\n",
       "    .dataframe tbody tr th:only-of-type {\n",
       "        vertical-align: middle;\n",
       "    }\n",
       "\n",
       "    .dataframe tbody tr th {\n",
       "        vertical-align: top;\n",
       "    }\n",
       "\n",
       "    .dataframe thead th {\n",
       "        text-align: right;\n",
       "    }\n",
       "</style>\n",
       "<table border=\"1\" class=\"dataframe\">\n",
       "  <thead>\n",
       "    <tr style=\"text-align: right;\">\n",
       "      <th></th>\n",
       "      <th>0</th>\n",
       "    </tr>\n",
       "  </thead>\n",
       "  <tbody>\n",
       "    <tr>\n",
       "      <th>0</th>\n",
       "      <td>0.661</td>\n",
       "    </tr>\n",
       "    <tr>\n",
       "      <th>1</th>\n",
       "      <td>0.473</td>\n",
       "    </tr>\n",
       "    <tr>\n",
       "      <th>2</th>\n",
       "      <td>0.047</td>\n",
       "    </tr>\n",
       "    <tr>\n",
       "      <th>3</th>\n",
       "      <td>0.335</td>\n",
       "    </tr>\n",
       "    <tr>\n",
       "      <th>4</th>\n",
       "      <td>0.294</td>\n",
       "    </tr>\n",
       "    <tr>\n",
       "      <th>5</th>\n",
       "      <td>NaN</td>\n",
       "    </tr>\n",
       "    <tr>\n",
       "      <th>6</th>\n",
       "      <td>NaN</td>\n",
       "    </tr>\n",
       "    <tr>\n",
       "      <th>7</th>\n",
       "      <td>NaN</td>\n",
       "    </tr>\n",
       "    <tr>\n",
       "      <th>8</th>\n",
       "      <td>NaN</td>\n",
       "    </tr>\n",
       "    <tr>\n",
       "      <th>9</th>\n",
       "      <td>0.586</td>\n",
       "    </tr>\n",
       "  </tbody>\n",
       "</table>\n",
       "</div>"
      ],
      "text/plain": [
       "       0\n",
       "0  0.661\n",
       "1  0.473\n",
       "2  0.047\n",
       "3  0.335\n",
       "4  0.294\n",
       "5    NaN\n",
       "6    NaN\n",
       "7    NaN\n",
       "8    NaN\n",
       "9  0.586"
      ]
     },
     "execution_count": 62,
     "metadata": {},
     "output_type": "execute_result"
    }
   ],
   "source": [
    "from scipy import stats\n",
    "res = stats.ttest_ind(output_cent_list, input_cent_list, \n",
    "                      equal_var=True, axis=0)\n",
    "display(res)\n",
    "pd.DataFrame(np.around(res.pvalue, decimals=3))"
   ]
  },
  {
   "cell_type": "markdown",
   "metadata": {},
   "source": [
    "# Find best filter value and t-test"
   ]
  },
  {
   "cell_type": "code",
   "execution_count": null,
   "metadata": {},
   "outputs": [],
   "source": [
    "not_significant_num = []\n",
    "for fv in np.linspace(0.6,0.8,21):\n",
    "    output_adj_list = []\n",
    "    output_cent_list = []\n",
    "    adj_mat_list = []\n",
    "    mu_list = []\n",
    "    for i in range(30):\n",
    "        adj_mat, mu_sample = sample_adj_mat(filter_value=fv, filter_eye=True)\n",
    "        output_adj_list.append(adj_mat)\n",
    "        output_cent_list.append(compute_cent(adj_mat))\n",
    "        adj_mat_list.append(adj_mat)\n",
    "        mu_list.append(mu_sample.detach().numpy())\n",
    "    input_adj_list = []\n",
    "    input_cent_list = []\n",
    "    for i in range(32):\n",
    "        adj_mat = ipf_data.get_adj_m()[i]\n",
    "        input_adj_list.append(adj_mat)\n",
    "        input_cent_list.append(compute_cent(adj_mat))\n",
    "    res = stats.ttest_ind(output_cent_list, input_cent_list, \n",
    "                      equal_var=True, axis=0)\n",
    "    not_significant_num.append(np.sum(res.pvalue>0.05/38))\n",
    "                "
   ]
  },
  {
   "cell_type": "code",
   "execution_count": null,
   "metadata": {},
   "outputs": [],
   "source": [
    "output_adj_list = []\n",
    "output_cent_list = []\n",
    "adj_mat_list = []\n",
    "mu_list = []\n",
    "fv = 0.7\n",
    "for i in range(30):\n",
    "    adj_mat, mu_sample = sample_adj_mat(filter_option=False, filter_value=fv, filter_eye=True)\n",
    "    output_adj_list.append(adj_mat)\n",
    "    output_cent_list.append(compute_cent(adj_mat))\n",
    "    adj_mat_list.append(adj_mat)\n",
    "    mu_list.append(mu_sample.detach().numpy())\n",
    "input_adj_list = []\n",
    "input_cent_list = []\n",
    "for i in range(32):\n",
    "    adj_mat = ipf_data.get_adj_m()[i]\n",
    "    input_adj_list.append(adj_mat)\n",
    "    input_cent_list.append(compute_cent(adj_mat))\n",
    "res = stats.ttest_ind(output_cent_list, input_cent_list, \n",
    "                  equal_var=True, axis=0)\n",
    "np.sum(res.pvalue>0.05/19)"
   ]
  },
  {
   "cell_type": "code",
   "execution_count": null,
   "metadata": {
    "tags": []
   },
   "outputs": [],
   "source": [
    "output_adj_list = []\n",
    "output_cent_list = []\n",
    "adj_mat_list = []\n",
    "mu_list = []\n",
    "for i in range(100):\n",
    "    adj_mat, mu_sample = sample_adj_mat(filter_value=0.7, filter_eye=True)\n",
    "    output_adj_list.append(adj_mat)\n",
    "    output_cent_list.append(compute_cent(adj_mat))\n",
    "    adj_mat_list.append(adj_mat)\n",
    "    mu_list.append(mu_sample.detach().numpy())\n",
    "input_adj_list = []\n",
    "input_cent_list = []\n",
    "for i in range(32):\n",
    "    adj_mat = ipf_data.get_adj_m()[i]\n",
    "    input_adj_list.append(adj_mat)\n",
    "    input_cent_list.append(compute_cent(adj_mat))\n",
    "res = stats.ttest_ind(output_cent_list, input_cent_list, \n",
    "                  equal_var=True, axis=0)\n",
    "np.sum(res.pvalue>0.05/38)"
   ]
  },
  {
   "cell_type": "code",
   "execution_count": null,
   "metadata": {},
   "outputs": [],
   "source": [
    "ipf_full_adj_list = []\n",
    "ipf_full_cent_list = []\n",
    "for i in range(100):\n",
    "    ipf_full_adj_list.append(recover_full_matrix(adj_mat_list[i], non_orphan_list=non_orphan_list))\n",
    "    ipf_full_cent_list.append(compute_cent(recover_full_matrix(adj_mat_list[i], non_orphan_list=non_orphan_list)))"
   ]
  },
  {
   "cell_type": "code",
   "execution_count": null,
   "metadata": {},
   "outputs": [],
   "source": [
    "plt.plot(np.linspace(0.4,0.6,21), not_significant_num)\n",
    "plt.axhline(y=6, color='r', linestyle='-')\n",
    "plt.xlabel(\"filter value\")\n",
    "plt.ylabel(\"number of non-significant nodes\")"
   ]
  },
  {
   "cell_type": "code",
   "execution_count": null,
   "metadata": {},
   "outputs": [],
   "source": [
    "raw_ipf_data = LoadData(samples=get_filename(\"./new_ipfdata\"), file_path=\"./new_ipfdata\", non_orphan_list=range(38))\n",
    "raw_ctrl_data = LoadData(samples=get_filename(\"./new_ctrldata\"), file_path=\"./new_ctrldata\", non_orphan_list=range(38))"
   ]
  },
  {
   "cell_type": "code",
   "execution_count": null,
   "metadata": {},
   "outputs": [],
   "source": [
    "raw_ipf_cent_list = []\n",
    "raw_ctrl_cent_list = []\n",
    "for i in range(len(raw_ipf_data.get_adj_m())):\n",
    "    adj_mat = raw_ipf_data.get_adj_m()[i]\n",
    "    raw_ipf_cent_list.append(compute_cent(adj_mat))\n",
    "    \n",
    "for i in range(len(raw_ctrl_data.get_adj_m())):\n",
    "    adj_mat = raw_ctrl_data.get_adj_m()[i]\n",
    "    raw_ctrl_cent_list.append(compute_cent(adj_mat))\n",
    "    \n",
    "res = stats.ttest_ind(raw_ctrl_cent_list, raw_ipf_cent_list, \n",
    "                      equal_var=True, axis=0)\n",
    "display(res)\n",
    "np.around(res.pvalue, decimals=3)\n",
    "np.argwhere(res.pvalue<0.05/19)"
   ]
  },
  {
   "cell_type": "code",
   "execution_count": null,
   "metadata": {},
   "outputs": [],
   "source": [
    "pd.DataFrame(np.around(res.pvalue, decimals=3)).T"
   ]
  },
  {
   "cell_type": "markdown",
   "metadata": {},
   "source": [
    "# Spectrum"
   ]
  },
  {
   "cell_type": "code",
   "execution_count": null,
   "metadata": {},
   "outputs": [],
   "source": [
    "import numpy.linalg as linalg\n",
    "output_spectrum = []\n",
    "input_spectrum = []\n",
    "for adj in output_adj_list:\n",
    "    lam, v = linalg.eig(adj)\n",
    "    output_spectrum.append(lam)\n",
    "for adj in input_adj_list:\n",
    "    lam, v = linalg.eig(adj)\n",
    "    input_spectrum.append(lam) "
   ]
  },
  {
   "cell_type": "code",
   "execution_count": null,
   "metadata": {},
   "outputs": [],
   "source": [
    "def compute_spectrum_distance(lam1, lam2):\n",
    "    return linalg.norm((lam1-lam2), 2)"
   ]
  },
  {
   "cell_type": "code",
   "execution_count": null,
   "metadata": {},
   "outputs": [],
   "source": [
    "spectrum_distance_matrix = np.empty((len(input_adj_list), len(output_adj_list)))\n",
    "for i in range((len(input_adj_list))):\n",
    "    for j in range(len(output_adj_list)):\n",
    "        spectrum_distance_matrix[i, j] = compute_spectrum_distance(input_spectrum[i], output_spectrum[j])"
   ]
  },
  {
   "cell_type": "code",
   "execution_count": null,
   "metadata": {},
   "outputs": [],
   "source": [
    "spectrum_distance_matrix"
   ]
  },
  {
   "cell_type": "code",
   "execution_count": null,
   "metadata": {},
   "outputs": [],
   "source": [
    "input_spectrum[1]"
   ]
  },
  {
   "cell_type": "code",
   "execution_count": null,
   "metadata": {},
   "outputs": [],
   "source": [
    "G0_G1_distance = spectrum_distance_matrix.flatten()"
   ]
  },
  {
   "cell_type": "code",
   "execution_count": null,
   "metadata": {},
   "outputs": [],
   "source": [
    "G0_distance = input_spectrum_distance_matrix.flatten()\n",
    "G0_mean = np.mean(G0_distance)\n",
    "G0_var = np.var(G0_distance)"
   ]
  },
  {
   "cell_type": "code",
   "execution_count": null,
   "metadata": {},
   "outputs": [],
   "source": [
    "G0_G1_mean = np.mean(G0_G1_distance)\n",
    "G0_G1_mean"
   ]
  },
  {
   "cell_type": "code",
   "execution_count": null,
   "metadata": {
    "tags": []
   },
   "outputs": [],
   "source": [
    "(G0_G1_mean - G0_mean) ** 2 / (G0_var)"
   ]
  },
  {
   "cell_type": "code",
   "execution_count": null,
   "metadata": {
    "tags": []
   },
   "outputs": [],
   "source": [
    "G0_mean"
   ]
  },
  {
   "cell_type": "code",
   "execution_count": null,
   "metadata": {
    "tags": []
   },
   "outputs": [],
   "source": [
    "G0_var"
   ]
  },
  {
   "cell_type": "code",
   "execution_count": null,
   "metadata": {
    "tags": []
   },
   "outputs": [],
   "source": [
    "np.around(np.mean(np.vstack(input_cent_list), axis=0) - np.mean(np.vstack(output_cent_list), axis=0), decimals=2)"
   ]
  },
  {
   "cell_type": "code",
   "execution_count": null,
   "metadata": {},
   "outputs": [],
   "source": [
    "import numpy.linalg as linalg\n",
    "output_spectrum = []\n",
    "input_spectrum = []\n",
    "input_adj_list = raw_ctrl_data.get_adj_m()\n",
    "output_adj_list = raw_ipf_data.get_adj_m()\n",
    "for adj in raw_ipf_data.get_adj_m():\n",
    "    lam, v = linalg.eig(adj)\n",
    "    output_spectrum.append(lam)\n",
    "for adj in raw_ctrl_data.get_adj_m():\n",
    "    lam, v = linalg.eig(adj)\n",
    "    input_spectrum.append(lam) \n",
    "spectrum_distance_matrix = np.empty((len(input_adj_list), len(output_adj_list)))\n",
    "for i in range((len(input_adj_list))):\n",
    "    for j in range(len(output_adj_list)):\n",
    "        spectrum_distance_matrix[i, j] = compute_spectrum_distance(raw_ipf_data.get_adj_m()[i], raw_ipf_data.get_adj_m()[j])\n",
    "spectrum_distance_matrix.shape"
   ]
  },
  {
   "cell_type": "markdown",
   "metadata": {},
   "source": [
    "# Ctrl model"
   ]
  },
  {
   "cell_type": "code",
   "execution_count": null,
   "metadata": {
    "tags": []
   },
   "outputs": [],
   "source": [
    "non_orphan_list = np.array([ 1,  2,  3,  4,  5,  8,  9, 13, 14, 17, 19, 20, 21, 22, 23, 25, 30,31, 32])\n",
    "ctrl_data = LoadData(samples=get_filename(\"./new_ctrldata\"), file_path=\"./new_ctrldata\", non_orphan_list=non_orphan_list)\n",
    "dataset = ctrl_data.graph_dataset()\n",
    "\n",
    "VGAE_Encoder = Encoder(num_features, out_channels)\n",
    "model = VGAE(VGAE_Encoder)\n",
    "optimizer = torch.optim.Adam(model.parameters(), lr=0.005)\n",
    "epochs = 2000\n",
    "\n",
    "for epoch in range(epochs):\n",
    "    loss_total = 0\n",
    "    optimizer.zero_grad()\n",
    "    \n",
    "    for i in range(len(dataset)):\n",
    "        train_data, val_data, test_data = transform(dataset[i])\n",
    "        z = model.encode(train_data.x, train_data.edge_index)\n",
    "        loss = model.recon_loss(z, train_data.edge_index)\n",
    "        loss = loss + (1 /num_features) * model.kl_loss()\n",
    "        loss_total += loss\n",
    "\n",
    "    loss_avg = loss_total/len(dataset)\n",
    "    loss_avg.backward()\n",
    "    optimizer.step()\n",
    "    if epoch % 100 ==0:\n",
    "        print(str(epoch)+str(loss_avg))"
   ]
  },
  {
   "cell_type": "code",
   "execution_count": null,
   "metadata": {},
   "outputs": [],
   "source": [
    "import matplotlib.pyplot as plt\n",
    "fig, ax = plt.subplots(4, 7, figsize=(10,10))\n",
    "for i in range(28):\n",
    "    plt.subplot(4, 7, i+1)\n",
    "    plt.imshow(ctrl_data.get_adj_m()[i], cmap=\"Greys\")"
   ]
  },
  {
   "cell_type": "code",
   "execution_count": null,
   "metadata": {},
   "outputs": [],
   "source": [
    "# os.chdir('C:\\\\Users\\\\Ji Qi\\\\Documents\\\\GitHub\\\\ST-Aim3')\n",
    "# os.getcwd()\n",
    "PATH = str(out_channels)+'_dim_vgae_model_for_ctrldata.pth'\n",
    "# torch.save(model, PATH)\n",
    "\n",
    "model = torch.load(PATH)\n",
    "model.eval()"
   ]
  },
  {
   "cell_type": "code",
   "execution_count": null,
   "metadata": {},
   "outputs": [],
   "source": [
    "# get mu and logstd \n",
    "\n",
    "mu_list_in_data = []\n",
    "logstd_list_in_data = []\n",
    "for i in range(len(dataset)):\n",
    "    train_data, val_data, test_data = transform(dataset[i])\n",
    "    mu = model.encode(train_data.x, train_data.edge_index)\n",
    "    mu_list_in_data.append(np.asarray(mu.detach()))\n",
    "\n",
    "mu_list_reshape = []\n",
    "n = len(dataset)\n",
    "for i in range(n):\n",
    "    mu_list_reshape.append(mu_list_in_data[i].reshape((out_channels * n_node)))\n",
    "\n",
    "# input data scatter \n",
    "import matplotlib.pyplot as plt\n",
    "def plot_mu_graph(mu):\n",
    "    \n",
    "    n_node = mu.shape[0]\n",
    "    annotations = [str(i+1) for i in range(n_node)]\n",
    "    colors = plt.cm.rainbow(np.linspace(0, 1, n_node))\n",
    "    plt.scatter(mu[:,0],mu[:,1],c=colors, s=100)\n",
    "    \n",
    "    for i, label in enumerate(annotations):\n",
    "        plt.annotate(label, (mu[i,0], mu[i,1]), fontsize=14)\n",
    "\n",
    "        \n",
    "plt.subplots(figsize=(20,10))\n",
    "\n",
    "for graph_i in range(28):\n",
    "    plt.subplot(4, 7, graph_i+1)\n",
    "    plot_mu_graph(mu_list_in_data[graph_i])\n",
    "    \n",
    "def sample_adj_mat(filter_option=True, filter_value=0.75, filter_eye=True):\n",
    "    model.__mu__ = torch.from_numpy((np.random.multivariate_normal(mean=means_normal,cov=cov_normal)).reshape((n_node,out_channels)))\n",
    "    z = model.__mu__\n",
    "    model.decode(z, edge_index)\n",
    "    adj_mat = np.zeros((n_node, n_node))\n",
    "    for i in range(n_node*n_node):\n",
    "        adj_mat[int(edge_index[0, i]), int(edge_index[1, i])] = (model.decode(z, edge_index)[i].detach().numpy()).item()\n",
    "    if filter_option==True:   \n",
    "        adj_mat[adj_mat < filter_value] = 0\n",
    "        adj_mat[adj_mat >= filter_value] = 1\n",
    "    if filter_eye:\n",
    "        for i in range(adj_mat.shape[0]):\n",
    "            adj_mat[i,i]=0\n",
    "    return adj_mat, model.__mu__\n",
    "# Gaussian distribution for generating mu\n",
    "\n",
    "import scipy.stats as stats\n",
    "data_mu = np.zeros((n, out_channels * n_node))\n",
    "for i in range(n):\n",
    "    data_mu[i, :] = mu_list_reshape[i]\n",
    "\n",
    "from sklearn.mixture import GaussianMixture\n",
    "\n",
    "gm_mu = GaussianMixture(n_components=1, random_state=0).fit(data_mu)\n",
    "gm_mu.weights_[0] = 1     \n",
    "\n",
    "# got mean and cov for mu generating distribution\n",
    "means_normal = gm_mu.means_\n",
    "cov_normal = gm_mu.covariances_\n",
    "means_normal = np.asarray(means_normal.tolist()[0])\n",
    "cov_normal = np.asarray(cov_normal.tolist()[0])\n",
    "\n",
    "# generate adjacency matrices\n",
    "\n",
    "output_adj_list = []\n",
    "output_cent_list = []\n",
    "\n",
    "import matplotlib.pyplot as plt\n",
    "fig, ax = plt.subplots(5, 20, figsize=(20,10))\n",
    "\n",
    "adj_mat_list = []\n",
    "mu_list = []\n",
    "for i in range(100):\n",
    "    plt.subplot(5, 20, i+1)\n",
    "    adj_mat, mu_sample = sample_adj_mat(filter_option=True, filter_value=0.7, filter_eye=True)\n",
    "    output_adj_list.append(adj_mat)\n",
    "    output_cent_list.append(compute_cent(adj_mat))\n",
    "    adj_mat_list.append(adj_mat)\n",
    "    mu_list.append(mu_sample.detach().numpy())\n",
    "    plt.imshow(adj_mat, cmap=\"Greys\")"
   ]
  },
  {
   "cell_type": "code",
   "execution_count": null,
   "metadata": {},
   "outputs": [],
   "source": [
    "input_adj_list = []\n",
    "input_cent_list = []\n",
    "for i in range(28):\n",
    "    adj_mat = ctrl_data.get_adj_m()[i]\n",
    "    input_adj_list.append(adj_mat)\n",
    "    input_cent_list.append(compute_cent(adj_mat))"
   ]
  },
  {
   "cell_type": "code",
   "execution_count": null,
   "metadata": {},
   "outputs": [],
   "source": [
    "from scipy import stats\n",
    "res = stats.ttest_ind(output_cent_list, input_cent_list, \n",
    "                      equal_var=True, axis=0)\n",
    "display(res)\n",
    "np.sum(res.pvalue>0.05/19)"
   ]
  },
  {
   "cell_type": "code",
   "execution_count": null,
   "metadata": {},
   "outputs": [],
   "source": [
    "not_significant_num = []\n",
    "for fv in np.linspace(0.6,0.8,21):\n",
    "    output_adj_list = []\n",
    "    output_cent_list = []\n",
    "    adj_mat_list = []\n",
    "    mu_list = []\n",
    "    for i in range(30):\n",
    "        adj_mat, mu_sample = sample_adj_mat(filter_value=fv, filter_eye=True)\n",
    "        output_adj_list.append(adj_mat)\n",
    "        output_cent_list.append(compute_cent(adj_mat))\n",
    "        adj_mat_list.append(adj_mat)\n",
    "        mu_list.append(mu_sample.detach().numpy())\n",
    "    input_adj_list = []\n",
    "    input_cent_list = []\n",
    "    for i in range(28):\n",
    "        adj_mat = ctrl_data.get_adj_m()[i]\n",
    "        input_adj_list.append(adj_mat)\n",
    "        input_cent_list.append(compute_cent(adj_mat))\n",
    "    res = stats.ttest_ind(output_cent_list, input_cent_list, \n",
    "                      equal_var=True, axis=0)\n",
    "    not_significant_num.append(np.sum(res.pvalue>0.05/38))\n",
    "                "
   ]
  },
  {
   "cell_type": "code",
   "execution_count": null,
   "metadata": {},
   "outputs": [],
   "source": [
    "plt.plot(np.linspace(0.6,0.8,22), not_significant_num)\n",
    "plt.xlabel(\"filter value\")\n",
    "plt.ylabel(\"number of non-significant nodes\")\n",
    "plt.axhline(y=4, color='r', linestyle='-')"
   ]
  },
  {
   "cell_type": "code",
   "execution_count": null,
   "metadata": {},
   "outputs": [],
   "source": [
    "output_adj_list = []\n",
    "output_cent_list = []\n",
    "adj_mat_list = []\n",
    "mu_list = []\n",
    "fv = 0.7\n",
    "for i in range(30):\n",
    "    adj_mat, mu_sample = sample_adj_mat(filter_option=False, filter_value=fv, filter_eye=True)\n",
    "    output_adj_list.append(adj_mat)\n",
    "    output_cent_list.append(compute_cent(adj_mat))\n",
    "    adj_mat_list.append(adj_mat)\n",
    "    mu_list.append(mu_sample.detach().numpy())\n",
    "input_adj_list = []\n",
    "input_cent_list = []\n",
    "for i in range(32):\n",
    "    adj_mat = ipf_data.get_adj_m()[i]\n",
    "    input_adj_list.append(adj_mat)\n",
    "    input_cent_list.append(compute_cent(adj_mat))\n",
    "res = stats.ttest_ind(output_cent_list, input_cent_list, \n",
    "                  equal_var=True, axis=0)\n",
    "np.sum(res.pvalue>0.05/19)"
   ]
  },
  {
   "cell_type": "code",
   "execution_count": null,
   "metadata": {},
   "outputs": [],
   "source": [
    "output_adj_list = []\n",
    "output_cent_list = []\n",
    "adj_mat_list = []\n",
    "mu_list = []\n",
    "fv = 0.7\n",
    "for i in range(100):\n",
    "    adj_mat, mu_sample = sample_adj_mat(filter_value=fv, filter_eye=True)\n",
    "    output_adj_list.append(adj_mat)\n",
    "    output_cent_list.append(compute_cent(adj_mat))\n",
    "    adj_mat_list.append(adj_mat)\n",
    "    mu_list.append(mu_sample.detach().numpy())\n",
    "input_adj_list = []\n",
    "input_cent_list = []\n",
    "for i in range(28):\n",
    "    adj_mat = ctrl_data.get_adj_m()[i]\n",
    "    input_adj_list.append(adj_mat)\n",
    "    input_cent_list.append(compute_cent(adj_mat))\n",
    "res = stats.ttest_ind(output_cent_list, input_cent_list, \n",
    "                  equal_var=True, axis=0)\n",
    "np.sum(res.pvalue>0.05/38)"
   ]
  },
  {
   "cell_type": "code",
   "execution_count": null,
   "metadata": {},
   "outputs": [],
   "source": [
    "ctrl_output_cent_list = output_cent_list"
   ]
  },
  {
   "cell_type": "code",
   "execution_count": null,
   "metadata": {},
   "outputs": [],
   "source": [
    "res = stats.ttest_ind(ipf_output_cent_list, ctrl_output_cent_list, \n",
    "                  equal_var=True, axis=0)\n",
    "np.sum(res.pvalue>0.05/38)"
   ]
  },
  {
   "cell_type": "code",
   "execution_count": null,
   "metadata": {},
   "outputs": [],
   "source": [
    "ctrl_full_adj_list = []\n",
    "ctrl_full_cent_list = []\n",
    "for i in range(100):\n",
    "    ctrl_full_adj_list.append(recover_full_matrix(adj_mat_list[i], non_orphan_list=non_orphan_list))\n",
    "    ctrl_full_cent_list.append(compute_cent(recover_full_matrix(adj_mat_list[i], non_orphan_list=non_orphan_list)))"
   ]
  },
  {
   "cell_type": "code",
   "execution_count": null,
   "metadata": {},
   "outputs": [],
   "source": [
    "res = stats.ttest_ind(ipf_full_cent_list, ctrl_full_cent_list, \n",
    "                  equal_var=True, axis=0)\n",
    "np.argwhere(res.pvalue<0.05/19)"
   ]
  }
 ],
 "metadata": {
  "interpreter": {
   "hash": "a0fda160d1f2c5bc3d881cf33528f9456673322dc33c539be4e7bf6fcf35207c"
  },
  "kernelspec": {
   "display_name": "Python 3 (ipykernel)",
   "language": "python",
   "name": "python3"
  },
  "language_info": {
   "codemirror_mode": {
    "name": "ipython",
    "version": 3
   },
   "file_extension": ".py",
   "mimetype": "text/x-python",
   "name": "python",
   "nbconvert_exporter": "python",
   "pygments_lexer": "ipython3",
   "version": "3.10.4"
  }
 },
 "nbformat": 4,
 "nbformat_minor": 4
}
